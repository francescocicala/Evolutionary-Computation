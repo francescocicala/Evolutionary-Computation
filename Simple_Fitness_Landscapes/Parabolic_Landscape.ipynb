{
 "cells": [
  {
   "cell_type": "markdown",
   "metadata": {},
   "source": [
    "# 1.3 EV on a Parabolic Landscape\n",
    "We consider a simple geno/phenospace: each individual $x$ of the population is a real number.\n",
    "\n",
    "The objective fitness function is $F(x) = 50 - x^2$.\n",
    "\n",
    "Population size: 10.\n",
    "\n",
    "There are two kind of mutations, +1.0 and -1.0. At each generation, one individual is randomly selected to be parent, and a new individual will born. The son will be almost identical to the parent, but will present one of the two possibile mutations.\n",
    "\n",
    "Eventually, a candidate will be selected from the initial population, and the one with the highest fitness between the candidate and the son previously generated will be kept. The other one will extinguish."
   ]
  },
  {
   "cell_type": "code",
   "execution_count": 1,
   "metadata": {},
   "outputs": [],
   "source": [
    "import numpy as np\n",
    "import matplotlib.pyplot as plt"
   ]
  },
  {
   "cell_type": "code",
   "execution_count": 2,
   "metadata": {},
   "outputs": [],
   "source": [
    "def fitness(x):\n",
    "    return 50 - x*x\n",
    "\n",
    "def mutate(x):\n",
    "    mutation = [-1.0, 1.0][np.random.randint(0, 2)]\n",
    "    return x + mutation\n",
    "\n",
    "def new_generation(population):\n",
    "    # Parent selection by uniform distribution\n",
    "    parent_idx = np.random.randint(pop_size)\n",
    "    parent = population[parent_idx]\n",
    "    \n",
    "    # Son generation by mutating the parent\n",
    "    son = mutate(parent)\n",
    "    son_fitness = fitness(son)\n",
    "    \n",
    "    # Candidate selection by uniform distribution\n",
    "    candidate_idx = np.random.randint(pop_size)\n",
    "    candidate = population[candidate_idx]\n",
    "    candidate_fitness = fitness(candidate)\n",
    "\n",
    "    # Only the fittest among the candidate and the newborn is selected to survive\n",
    "    population[candidate_idx] = [candidate, son][int(candidate_fitness < son_fitness)]\n",
    "    \n",
    "    return population\n",
    "\n",
    "def print_population(population, fitness):\n",
    "    print(\"#\\tIndividual\\tFitness\")\n",
    "    for i in range(population.shape[0]):\n",
    "        print(\"{}\\t{:.2f}\\t\\t{:.2f}\".format(i, population[i], fitness[i]))"
   ]
  },
  {
   "cell_type": "code",
   "execution_count": 3,
   "metadata": {},
   "outputs": [
    {
     "name": "stdout",
     "output_type": "stream",
     "text": [
      "#\tIndividual\tFitness\n",
      "0\t-64.80\t\t-4148.49\n",
      "1\t-58.49\t\t-3371.50\n",
      "2\t-19.98\t\t-349.36\n",
      "3\t28.34\t\t-753.37\n",
      "4\t-83.06\t\t-6848.45\n",
      "5\t36.83\t\t-1306.48\n",
      "6\t-31.07\t\t-915.56\n",
      "7\t31.72\t\t-955.89\n",
      "8\t-58.24\t\t-3341.42\n",
      "9\t91.14\t\t-8256.10\n"
     ]
    }
   ],
   "source": [
    "pop_size = 10\n",
    "\n",
    "# initialize the population: generation 0\n",
    "population = np.random.uniform(low=-100, high=100, size=(pop_size,))\n",
    "population_fitness = fitness(population)\n",
    "\n",
    "print_population(population, population_fitness)"
   ]
  },
  {
   "cell_type": "code",
   "execution_count": 4,
   "metadata": {},
   "outputs": [
    {
     "name": "stdout",
     "output_type": "stream",
     "text": [
      "#\tIndividual\tFitness\n",
      "0\t-64.80\t\t-4148.49\n",
      "1\t-58.49\t\t-3371.50\n",
      "2\t-19.98\t\t-349.36\n",
      "3\t28.34\t\t-753.37\n",
      "4\t-83.06\t\t-6848.45\n",
      "5\t36.83\t\t-1306.48\n",
      "6\t-31.07\t\t-915.56\n",
      "7\t31.72\t\t-955.89\n",
      "8\t-30.07\t\t-854.42\n",
      "9\t91.14\t\t-8256.10\n"
     ]
    }
   ],
   "source": [
    "# generation 1\n",
    "population = new_generation(population)\n",
    "population_fitness = fitness(population)\n",
    "\n",
    "print_population(population, population_fitness)"
   ]
  },
  {
   "cell_type": "code",
   "execution_count": 5,
   "metadata": {},
   "outputs": [
    {
     "name": "stdout",
     "output_type": "stream",
     "text": [
      "#\tIndividual\tFitness\n",
      "0\t0.02\t\t50.00\n",
      "1\t0.02\t\t50.00\n",
      "2\t0.02\t\t50.00\n",
      "3\t0.02\t\t50.00\n",
      "4\t0.02\t\t50.00\n",
      "5\t0.02\t\t50.00\n",
      "6\t0.02\t\t50.00\n",
      "7\t-0.98\t\t49.03\n",
      "8\t0.02\t\t50.00\n",
      "9\t0.02\t\t50.00\n"
     ]
    }
   ],
   "source": [
    "best_individual_per_gen = [np.max(fitness(population))]\n",
    "for i in range(500):\n",
    "    population = new_generation(population)\n",
    "    best_individual_per_gen += [np.max(fitness(population))]\n",
    "    \n",
    "population_fitness = fitness(population)\n",
    "print_population(population, population_fitness)"
   ]
  },
  {
   "cell_type": "markdown",
   "metadata": {},
   "source": [
    "The population has converged to the maximum fitness on the landscape."
   ]
  },
  {
   "cell_type": "code",
   "execution_count": 6,
   "metadata": {},
   "outputs": [
    {
     "data": {
      "image/png": "[encoded data removed]",
      "text/plain": [
       "<Figure size 432x288 with 1 Axes>"
      ]
     },
     "metadata": {
      "needs_background": "light"
     },
     "output_type": "display_data"
    }
   ],
   "source": [
    "plt.plot(best_individual_per_gen);"
   ]
  }
 ],
 "metadata": {
  "kernelspec": {
   "display_name": "Python 3",
   "language": "python",
   "name": "python3"
  },
  "language_info": {
   "codemirror_mode": {
    "name": "ipython",
    "version": 3
   },
   "file_extension": ".py",
   "mimetype": "text/x-python",
   "name": "python",
   "nbconvert_exporter": "python",
   "pygments_lexer": "ipython3",
   "version": "3.6.6"
  }
 },
 "nbformat": 4,
 "nbformat_minor": 1
}
