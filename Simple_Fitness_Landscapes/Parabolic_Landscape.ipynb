{
 "cells": [
  {
   "cell_type": "markdown",
   "metadata": {},
   "source": [
    "# 1.3 EV on a Parabolic Landscape\n",
    "We consider a simple geno/phenospace: each individual $x$ of the population is a real number.\n",
    "\n",
    "The objective fitness function is $F(x) = 50 - x^2$.\n",
    "\n",
    "Population size: 10.\n",
    "\n",
    "There are two kind of mutations, +1.0 and -1.0. At each generation, one individual is randomly selected to be parent, and a new individual will born. The son will be almost identical to the parent, but will present one of the two possibile mutations.\n",
    "\n",
    "Eventually, a candidate will be selected from the initial population, and the one with the highest fitness between the candidate and the son previously generated will be kept. The other one will extinguish."
   ]
  },
  {
   "cell_type": "code",
   "execution_count": 1,
   "metadata": {},
   "outputs": [],
   "source": [
    "import numpy as np\n",
    "import matplotlib.pyplot as plt"
   ]
  },
  {
   "cell_type": "code",
   "execution_count": 2,
   "metadata": {},
   "outputs": [],
   "source": [
    "def fitness(x):\n",
    "    return 50 - x*x\n",
    "\n",
    "def mutate(x):\n",
    "    mutation = [-1.0, 1.0][np.random.randint(0, 2)]\n",
    "    return x + mutation\n",
    "\n",
    "def new_generation(population):\n",
    "    # Parent selection by uniform distribution\n",
    "    parent_idx = np.random.randint(pop_size)\n",
    "    parent = population[parent_idx]\n",
    "    \n",
    "    # Son generation by mutating the parent\n",
    "    son = mutate(parent)\n",
    "    son_fitness = fitness(son)\n",
    "    \n",
    "    # Candidate selection by uniform distribution\n",
    "    candidate_idx = np.random.randint(pop_size)\n",
    "    candidate = population[candidate_idx]\n",
    "    candidate_fitness = fitness(candidate)\n",
    "\n",
    "    # Only the fittest among the candidate and the newborn is selected to survive\n",
    "    population[candidate_idx] = [candidate, son][int(candidate_fitness < son_fitness)]\n",
    "    \n",
    "    return population\n",
    "\n",
    "def print_population(population, fitness):\n",
    "    print(\"#\\tIndividual\\tFitness\")\n",
    "    for i in range(population.shape[0]):\n",
    "        print(\"{}\\t{:.2f}\\t\\t{:.2f}\".format(i, population[i], fitness[i]))"
   ]
  },
  {
   "cell_type": "code",
   "execution_count": 3,
   "metadata": {},
   "outputs": [
    {
     "name": "stdout",
     "output_type": "stream",
     "text": [
      "#\tIndividual\tFitness\n",
      "0\t-40.07\t\t-1555.60\n",
      "1\t32.78\t\t-1024.67\n",
      "2\t23.09\t\t-482.98\n",
      "3\t74.61\t\t-5516.07\n",
      "4\t85.50\t\t-7259.45\n",
      "5\t-2.03\t\t45.89\n",
      "6\t22.74\t\t-467.25\n",
      "7\t-11.85\t\t-90.31\n",
      "8\t-80.30\t\t-6398.50\n",
      "9\t-35.17\t\t-1186.87\n"
     ]
    }
   ],
   "source": [
    "pop_size = 10\n",
    "\n",
    "# initialize the population: generation 0\n",
    "population = np.random.uniform(low=-100, high=100, size=(pop_size,))\n",
    "population_fitness = fitness(population)\n",
    "\n",
    "print_population(population, population_fitness)"
   ]
  },
  {
   "cell_type": "code",
   "execution_count": 4,
   "metadata": {},
   "outputs": [
    {
     "name": "stdout",
     "output_type": "stream",
     "text": [
      "#\tIndividual\tFitness\n",
      "0\t-40.07\t\t-1555.60\n",
      "1\t32.78\t\t-1024.67\n",
      "2\t23.09\t\t-482.98\n",
      "3\t-10.85\t\t-67.62\n",
      "4\t85.50\t\t-7259.45\n",
      "5\t-2.03\t\t45.89\n",
      "6\t22.74\t\t-467.25\n",
      "7\t-11.85\t\t-90.31\n",
      "8\t-80.30\t\t-6398.50\n",
      "9\t-35.17\t\t-1186.87\n"
     ]
    }
   ],
   "source": [
    "# generation 1\n",
    "population = new_generation(population)\n",
    "population_fitness = fitness(population)\n",
    "\n",
    "print_population(population, population_fitness)"
   ]
  },
  {
   "cell_type": "code",
   "execution_count": 5,
   "metadata": {},
   "outputs": [
    {
     "name": "stdout",
     "output_type": "stream",
     "text": [
      "#\tIndividual\tFitness\n",
      "0\t-0.03\t\t50.00\n",
      "1\t-0.03\t\t50.00\n",
      "2\t-0.03\t\t50.00\n",
      "3\t-0.03\t\t50.00\n",
      "4\t-0.03\t\t50.00\n",
      "5\t-0.03\t\t50.00\n",
      "6\t-0.03\t\t50.00\n",
      "7\t-0.03\t\t50.00\n",
      "8\t-0.03\t\t50.00\n",
      "9\t-0.03\t\t50.00\n"
     ]
    }
   ],
   "source": [
    "for i in range(1000):\n",
    "    population = new_generation(population)\n",
    "    \n",
    "population_fitness = fitness(population)\n",
    "print_population(population, population_fitness)"
   ]
  },
  {
   "cell_type": "markdown",
   "metadata": {},
   "source": [
    "The population has converged to the maximum fitness on the landscape."
   ]
  }
 ],
 "metadata": {
  "kernelspec": {
   "display_name": "Python 3",
   "language": "python",
   "name": "python3"
  },
  "language_info": {
   "codemirror_mode": {
    "name": "ipython",
    "version": 3
   },
   "file_extension": ".py",
   "mimetype": "text/x-python",
   "name": "python",
   "nbconvert_exporter": "python",
   "pygments_lexer": "ipython3",
   "version": "3.6.6"
  }
 },
 "nbformat": 4,
 "nbformat_minor": 1
}
