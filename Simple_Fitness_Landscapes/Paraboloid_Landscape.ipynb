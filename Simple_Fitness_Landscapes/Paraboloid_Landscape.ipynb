{
 "cells": [
  {
   "cell_type": "markdown",
   "metadata": {},
   "source": [
    "# 1.4 EV on a Paraboloid Landscape\n",
    "We consider a simple geno/phenospace: $x \\in [-0.5, 0.5]\\times[-0.5, 0.5]$.\n",
    "\n",
    "The objective fitness function is $F(x) = x_1^2 + x_2^2$.\n",
    "\n",
    "Population size: 10.\n",
    "\n",
    "The mutation consist of a 2D-vector $\\epsilon$ which is added to the parent individual to generate a newborn. The mutation $\\epsilon$ is extracted from a bivariate normal distribution: $\\epsilon \\sim GM(s) = \\mathcal{N}(\\textbf{0}, \\frac{s}{\\sqrt{2/\\pi}} \\mathbb{1})$\n",
    "\n",
    "Eventually, a candidate will be selected from the initial population, and the one with the highest fitness between the candidate and the son previously generated will be kept. The other one will extinguish."
   ]
  },
  {
   "cell_type": "markdown",
   "metadata": {},
   "source": [
    "### Observations\n",
    "We have four symmetric maxima over the given landscape. Each individual influences the evolution of the population towards its closest maximum, with an intensity proportional to how much close it is to that maximum. This effect is an indirect consequence of the way in which the evolution process is defined.\n",
    "\n",
    "Therefore, after some initial oscillations of the mean genotype, the population will converge to the same maximum."
   ]
  },
  {
   "cell_type": "code",
   "execution_count": 1,
   "metadata": {},
   "outputs": [],
   "source": [
    "import numpy as np\n",
    "np.set_printoptions(precision=2)\n",
    "import matplotlib.pyplot as plt"
   ]
  },
  {
   "cell_type": "code",
   "execution_count": 2,
   "metadata": {},
   "outputs": [],
   "source": [
    "def fitness(x):\n",
    "    return np.linalg.norm(x, axis=-1) ** 2\n",
    "\n",
    "def mutate(x, s=1):\n",
    "    mutation = np.random.normal(0, s, size=x.shape)\n",
    "    return np.clip(x + mutation, -5, 5)\n",
    "\n",
    "def new_generation(population, s=1):\n",
    "    # Parent selection by uniform distribution\n",
    "    parent_idx = np.random.randint(pop_size)\n",
    "    parent = population[parent_idx]\n",
    "    \n",
    "    # Son generation by mutating the parent\n",
    "    son = mutate(parent, s)\n",
    "    son_fitness = fitness(son)\n",
    "    \n",
    "    # Candidate selection by uniform distribution\n",
    "    candidate_idx = np.random.randint(pop_size)\n",
    "    candidate = population[candidate_idx]\n",
    "    candidate_fitness = fitness(candidate)\n",
    "\n",
    "    # Only the fittest among the candidate and the newborn is selected to survive\n",
    "    population[candidate_idx] = [candidate, son][int(candidate_fitness < son_fitness)]\n",
    "    \n",
    "    return population\n",
    "\n",
    "def print_population(population, fitness):\n",
    "    print(\"#\\tFitness\\t\\tIndividual\")\n",
    "    for i in range(population.shape[0]):\n",
    "        print(\"{}\\t{:.2f}\\t\\t{}\".format(i, fitness[i], population[i]))"
   ]
  },
  {
   "cell_type": "code",
   "execution_count": 3,
   "metadata": {},
   "outputs": [
    {
     "name": "stdout",
     "output_type": "stream",
     "text": [
      "#\tFitness\t\tIndividual\n",
      "0\t41.44\t\t[-4.58  4.52]\n",
      "1\t10.49\t\t[-0.31 -3.22]\n",
      "2\t24.56\t\t[-2.21  4.44]\n",
      "3\t30.29\t\t[4.29 3.45]\n",
      "4\t11.11\t\t[ 1.84 -2.78]\n",
      "5\t22.25\t\t[-0.21 -4.71]\n",
      "6\t8.99\t\t[-0.95 -2.84]\n",
      "7\t6.63\t\t[-2.26  1.24]\n",
      "8\t28.71\t\t[-4.18 -3.35]\n",
      "9\t20.47\t\t[-3.64 -2.69]\n"
     ]
    }
   ],
   "source": [
    "pop_size = 10\n",
    "\n",
    "# initialize the population: generation 0\n",
    "population = np.random.uniform(low=-5.0, high=5.0, size=(pop_size, 2))\n",
    "population_fitness = fitness(population)\n",
    "\n",
    "print_population(population, population_fitness)"
   ]
  },
  {
   "cell_type": "code",
   "execution_count": 4,
   "metadata": {},
   "outputs": [
    {
     "name": "stdout",
     "output_type": "stream",
     "text": [
      "#\tFitness\t\tIndividual\n",
      "0\t41.44\t\t[-4.58  4.52]\n",
      "1\t10.49\t\t[-0.31 -3.22]\n",
      "2\t24.56\t\t[-2.21  4.44]\n",
      "3\t30.29\t\t[4.29 3.45]\n",
      "4\t11.11\t\t[ 1.84 -2.78]\n",
      "5\t22.25\t\t[-0.21 -4.71]\n",
      "6\t8.99\t\t[-0.95 -2.84]\n",
      "7\t6.63\t\t[-2.26  1.24]\n",
      "8\t28.71\t\t[-4.18 -3.35]\n",
      "9\t29.68\t\t[4.2  3.47]\n"
     ]
    }
   ],
   "source": [
    "# generation 1\n",
    "s = 0.1\n",
    "population = new_generation(population, s)\n",
    "population_fitness = fitness(population)\n",
    "\n",
    "print_population(population, population_fitness)"
   ]
  },
  {
   "cell_type": "code",
   "execution_count": 5,
   "metadata": {
    "scrolled": true
   },
   "outputs": [
    {
     "name": "stdout",
     "output_type": "stream",
     "text": [
      "#\tFitness\t\tIndividual\n",
      "0\t50.00\t\t[-5.  5.]\n",
      "1\t50.00\t\t[-5.  5.]\n",
      "2\t50.00\t\t[-5.  5.]\n",
      "3\t50.00\t\t[-5.  5.]\n",
      "4\t50.00\t\t[-5.  5.]\n",
      "5\t50.00\t\t[-5.  5.]\n",
      "6\t50.00\t\t[-5.  5.]\n",
      "7\t50.00\t\t[-5.  5.]\n",
      "8\t50.00\t\t[-5.  5.]\n",
      "9\t50.00\t\t[-5.  5.]\n"
     ]
    }
   ],
   "source": [
    "best_individual_per_gen = [np.max(fitness(population))]\n",
    "for i in range(500):\n",
    "    population = new_generation(population, s)\n",
    "    best_individual_per_gen += [np.max(fitness(population))]\n",
    "    \n",
    "population_fitness = fitness(population)\n",
    "print_population(population, population_fitness)"
   ]
  },
  {
   "cell_type": "code",
   "execution_count": 6,
   "metadata": {},
   "outputs": [
    {
     "data": {
      "image/png": "[encoded data removed]",
      "text/plain": [
       "<Figure size 432x288 with 1 Axes>"
      ]
     },
     "metadata": {
      "needs_background": "light"
     },
     "output_type": "display_data"
    }
   ],
   "source": [
    "plt.plot(best_individual_per_gen);"
   ]
  }
 ],
 "metadata": {
  "kernelspec": {
   "display_name": "Python 3",
   "language": "python",
   "name": "python3"
  },
  "language_info": {
   "codemirror_mode": {
    "name": "ipython",
    "version": 3
   },
   "file_extension": ".py",
   "mimetype": "text/x-python",
   "name": "python",
   "nbconvert_exporter": "python",
   "pygments_lexer": "ipython3",
   "version": "3.6.6"
  }
 },
 "nbformat": 4,
 "nbformat_minor": 2
}
